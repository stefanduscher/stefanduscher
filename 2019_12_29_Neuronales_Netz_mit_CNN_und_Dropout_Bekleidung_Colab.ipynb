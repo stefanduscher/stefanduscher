{
  "nbformat": 4,
  "nbformat_minor": 0,
  "metadata": {
    "colab": {
      "name": "2019_12_29_Neuronales_Netz_mit_CNN_und_Dropout_Bekleidung_Colab.ipynb",
      "provenance": [],
      "collapsed_sections": []
    },
    "kernelspec": {
      "name": "python3",
      "display_name": "Python 3"
    },
    "accelerator": "GPU"
  },
  "cells": [
    {
      "cell_type": "markdown",
      "metadata": {
        "id": "iQjHqsmTAVLU",
        "colab_type": "text"
      },
      "source": [
        "# Neuronale Netze programmieren \n",
        "## Version mit CNN und Pooling und möglichem Hochladen\n",
        "### Datum: 28.12.2019\n",
        "### Kurs: VHS Ludwigsburg - Maschinelles Lernen\n",
        "In diesem Projekt geht es darum Kleidung zu kategorisieren. Einfach gesagt, wir trainieren unser neuronales Netz mit 70.000 Bildern von Kleidung und am Ende wollen wir ihm ein Bild der Kleidung zeigen und es soll vorhersagen, was es ist.\n",
        "\n",
        "Die verwendete Datensammlung heiß MNIST Fashion.\n"
      ]
    },
    {
      "cell_type": "markdown",
      "metadata": {
        "id": "tbx5K6x-2pO0",
        "colab_type": "text"
      },
      "source": [
        "## So sehen die BIlder in unserem Datenset aus\n",
        "![Bilder der Kleidung](https://tensorflow.org/images/fashion-mnist-sprite.png)\n"
      ]
    },
    {
      "cell_type": "markdown",
      "metadata": {
        "id": "G_ynogvbBCU1",
        "colab_type": "text"
      },
      "source": [
        "## Programmtext"
      ]
    },
    {
      "cell_type": "markdown",
      "metadata": {
        "id": "E867HCfhBHBT",
        "colab_type": "text"
      },
      "source": [
        "### Importieren der Bibliotheken und Befehle"
      ]
    },
    {
      "cell_type": "code",
      "metadata": {
        "id": "tplZzNhoBPS4",
        "colab_type": "code",
        "colab": {
          "base_uri": "https://localhost:8080/",
          "height": 98
        },
        "outputId": "48fb4a05-afa7-43f0-d88c-f790f0ab57e6"
      },
      "source": [
        "%tensorflow_version 1.x   # Magic function um Tensorflow-Version festzulegen\n",
        "import tensorflow as tf   # Importieren von Tensorflow\n",
        "import numpy as np        # Importieren von Numpy\n",
        "import matplotlib.pyplot as plt # Importieren Pyplotlib von Matplotlib\n",
        "# --- Importieren von Kerasfunktionen für Neuronale Netze ---\n",
        "from tensorflow.keras import models\n",
        "from tensorflow.keras import regularizers\n",
        "# --- Importieren Funktionen zum Bilder laden und Datenvorbehandlung\n",
        "from keras.preprocessing import image\n",
        "import cv2 # Hiermit wird OpenCV importiert\n",
        "# --- Importieren Funktionen um auf Systemfunktionen zugreifen zu können\n",
        "from google.colab import files\n",
        "import os as os"
      ],
      "execution_count": 82,
      "outputs": [
        {
          "output_type": "stream",
          "text": [
            "`%tensorflow_version` only switches the major version: `1.x` or `2.x`.\n",
            "You set: `1.x   # Magic function um Tensorflow-Version festzulegen`. This will be interpreted as: `1.x`.\n",
            "\n",
            "\n",
            "TensorFlow is already loaded. Please restart the runtime to change versions.\n"
          ],
          "name": "stdout"
        }
      ]
    },
    {
      "cell_type": "markdown",
      "metadata": {
        "id": "wURaLxnVBbIk",
        "colab_type": "text"
      },
      "source": [
        "### Definieren von Systemvariablen und Konstanten"
      ]
    },
    {
      "cell_type": "code",
      "metadata": {
        "id": "Yk4G7KJUBhXx",
        "colab_type": "code",
        "colab": {}
      },
      "source": [
        "labels = [\"T-Shirt oder Top\", \"Hose\", \"Pullover\", \"Kleid\", \"Mantel\",\n",
        "          \"Sandale\", \"Shirt oder Oberhemd\", \"Sneaker\", \"Tasche\", \"Stiefel\"]\n",
        "\n",
        "abbruch_akkuranz = 0.999  # Bei Erreichen wird Optimierung abgebrochen\n",
        "\n",
        "Anz_Epochen = 50 # Anzahl der berechneten Epochen"
      ],
      "execution_count": 0,
      "outputs": []
    },
    {
      "cell_type": "markdown",
      "metadata": {
        "id": "DmekLdW6VEmR",
        "colab_type": "text"
      },
      "source": [
        "### Definition Callback-Funktion wenn gewünschte Akkuranz erreicht"
      ]
    },
    {
      "cell_type": "code",
      "metadata": {
        "id": "E1LMDYFuVAkM",
        "colab_type": "code",
        "colab": {}
      },
      "source": [
        "class myCallback(tf.keras.callbacks.Callback):\n",
        "  def on_epoch_end(self, epoch, logs={}):\n",
        "    if(logs.get('acc') > abbruch_akkuranz):\n",
        "      print(\"Das neuronale Netz ist akkurat genug.\")\n",
        "      self.model.stop_training = True\n",
        "\n",
        "callbacks = myCallback()"
      ],
      "execution_count": 0,
      "outputs": []
    },
    {
      "cell_type": "markdown",
      "metadata": {
        "id": "HPxUaOBCVQqW",
        "colab_type": "text"
      },
      "source": [
        "### Definieren des neuronalen Netzes"
      ]
    },
    {
      "cell_type": "code",
      "metadata": {
        "colab_type": "code",
        "id": "tAVsDH9ZJPkK",
        "colab": {}
      },
      "source": [
        "mnist = tf.keras.datasets.fashion_mnist\n",
        "(training_images, training_labels), (test_images, test_labels) = mnist.load_data()\n",
        "\n",
        "training_images = training_images.reshape(60000, 28, 28, 1)\n",
        "training_images = training_images / 255.0\n",
        "test_images = test_images.reshape(10000, 28, 28, 1)\n",
        "test_images = test_images / 255.0\n",
        "\n",
        "# Hier wird der eigentliche Aufbau der Layer (Art, Größe. Menge) definiert\n",
        "model = tf.keras.models.Sequential([\n",
        "    tf.keras.layers.Conv2D(30,(3,3), activation='relu', input_shape=(28,28,1)),\n",
        "    tf.keras.layers.MaxPooling2D(2,2),\n",
        "    tf.keras.layers.Conv2D(64,(3,3), activation='relu'),\n",
        "    tf.keras.layers.MaxPooling2D(2,2),\n",
        "    tf.keras.layers.Flatten(),\n",
        "    tf.keras.layers.Dense(400, activation='relu'),\n",
        "    tf.keras.layers.Dense(10, activation='softmax')\n",
        "])"
      ],
      "execution_count": 0,
      "outputs": []
    },
    {
      "cell_type": "markdown",
      "metadata": {
        "id": "u8tWvboNVeXe",
        "colab_type": "text"
      },
      "source": [
        "### Trainieren des Netzes"
      ]
    },
    {
      "cell_type": "code",
      "metadata": {
        "id": "ejDvEOILVbzc",
        "colab_type": "code",
        "colab": {
          "base_uri": "https://localhost:8080/",
          "height": 1675
        },
        "outputId": "d15458b5-8e9c-45af-9c81-9a41ebb45ef9"
      },
      "source": [
        "model.compile(optimizer='adam', loss='sparse_categorical_crossentropy', metrics=['accuracy'])\n",
        "model.fit(training_images,training_labels, epochs=Anz_Epochen, callbacks=[callbacks])"
      ],
      "execution_count": 86,
      "outputs": [
        {
          "output_type": "stream",
          "text": [
            "Train on 60000 samples\n",
            "Epoch 1/50\n",
            "60000/60000 [==============================] - 6s 105us/sample - loss: 0.4313 - acc: 0.8409\n",
            "Epoch 2/50\n",
            "60000/60000 [==============================] - 6s 104us/sample - loss: 0.2866 - acc: 0.8946\n",
            "Epoch 3/50\n",
            "60000/60000 [==============================] - 6s 101us/sample - loss: 0.2398 - acc: 0.9104\n",
            "Epoch 4/50\n",
            "60000/60000 [==============================] - 6s 104us/sample - loss: 0.2051 - acc: 0.9224\n",
            "Epoch 5/50\n",
            "60000/60000 [==============================] - 6s 103us/sample - loss: 0.1767 - acc: 0.9331\n",
            "Epoch 6/50\n",
            "60000/60000 [==============================] - 6s 104us/sample - loss: 0.1508 - acc: 0.9429\n",
            "Epoch 7/50\n",
            "60000/60000 [==============================] - 6s 100us/sample - loss: 0.1276 - acc: 0.9517\n",
            "Epoch 8/50\n",
            "60000/60000 [==============================] - 6s 101us/sample - loss: 0.1080 - acc: 0.9595\n",
            "Epoch 9/50\n",
            "60000/60000 [==============================] - 6s 101us/sample - loss: 0.0921 - acc: 0.9645\n",
            "Epoch 10/50\n",
            "60000/60000 [==============================] - 6s 100us/sample - loss: 0.0762 - acc: 0.9712\n",
            "Epoch 11/50\n",
            "60000/60000 [==============================] - 6s 101us/sample - loss: 0.0647 - acc: 0.9761\n",
            "Epoch 12/50\n",
            "60000/60000 [==============================] - 6s 100us/sample - loss: 0.0547 - acc: 0.9794\n",
            "Epoch 13/50\n",
            "60000/60000 [==============================] - 6s 101us/sample - loss: 0.0473 - acc: 0.9824\n",
            "Epoch 14/50\n",
            "60000/60000 [==============================] - 6s 100us/sample - loss: 0.0434 - acc: 0.9840\n",
            "Epoch 15/50\n",
            "60000/60000 [==============================] - 6s 100us/sample - loss: 0.0358 - acc: 0.9873\n",
            "Epoch 16/50\n",
            "60000/60000 [==============================] - 6s 101us/sample - loss: 0.0352 - acc: 0.9869\n",
            "Epoch 17/50\n",
            "60000/60000 [==============================] - 6s 101us/sample - loss: 0.0289 - acc: 0.9894\n",
            "Epoch 18/50\n",
            "60000/60000 [==============================] - 6s 100us/sample - loss: 0.0303 - acc: 0.9891\n",
            "Epoch 19/50\n",
            "60000/60000 [==============================] - 6s 100us/sample - loss: 0.0254 - acc: 0.9907\n",
            "Epoch 20/50\n",
            "60000/60000 [==============================] - 6s 99us/sample - loss: 0.0269 - acc: 0.9908\n",
            "Epoch 21/50\n",
            "60000/60000 [==============================] - 6s 100us/sample - loss: 0.0225 - acc: 0.9919\n",
            "Epoch 22/50\n",
            "60000/60000 [==============================] - 6s 100us/sample - loss: 0.0227 - acc: 0.9920\n",
            "Epoch 23/50\n",
            "60000/60000 [==============================] - 6s 101us/sample - loss: 0.0220 - acc: 0.9920\n",
            "Epoch 24/50\n",
            "60000/60000 [==============================] - 6s 99us/sample - loss: 0.0232 - acc: 0.9917\n",
            "Epoch 25/50\n",
            "60000/60000 [==============================] - 6s 99us/sample - loss: 0.0207 - acc: 0.9932\n",
            "Epoch 26/50\n",
            "60000/60000 [==============================] - 6s 100us/sample - loss: 0.0232 - acc: 0.9919\n",
            "Epoch 27/50\n",
            "60000/60000 [==============================] - 6s 102us/sample - loss: 0.0182 - acc: 0.9940\n",
            "Epoch 28/50\n",
            "60000/60000 [==============================] - 6s 102us/sample - loss: 0.0198 - acc: 0.9936\n",
            "Epoch 29/50\n",
            "60000/60000 [==============================] - 6s 101us/sample - loss: 0.0164 - acc: 0.9941\n",
            "Epoch 30/50\n",
            "60000/60000 [==============================] - 6s 102us/sample - loss: 0.0216 - acc: 0.9934\n",
            "Epoch 31/50\n",
            "60000/60000 [==============================] - 6s 101us/sample - loss: 0.0153 - acc: 0.9948\n",
            "Epoch 32/50\n",
            "60000/60000 [==============================] - 6s 102us/sample - loss: 0.0178 - acc: 0.9940\n",
            "Epoch 33/50\n",
            "60000/60000 [==============================] - 6s 100us/sample - loss: 0.0164 - acc: 0.9944\n",
            "Epoch 34/50\n",
            "60000/60000 [==============================] - 6s 101us/sample - loss: 0.0154 - acc: 0.9949\n",
            "Epoch 35/50\n",
            "60000/60000 [==============================] - 6s 101us/sample - loss: 0.0186 - acc: 0.9938\n",
            "Epoch 36/50\n",
            "60000/60000 [==============================] - 6s 101us/sample - loss: 0.0157 - acc: 0.9950\n",
            "Epoch 37/50\n",
            "60000/60000 [==============================] - 6s 102us/sample - loss: 0.0167 - acc: 0.9947\n",
            "Epoch 38/50\n",
            "60000/60000 [==============================] - 6s 101us/sample - loss: 0.0139 - acc: 0.9953\n",
            "Epoch 39/50\n",
            "60000/60000 [==============================] - 6s 101us/sample - loss: 0.0171 - acc: 0.9947\n",
            "Epoch 40/50\n",
            "60000/60000 [==============================] - 6s 102us/sample - loss: 0.0166 - acc: 0.9948\n",
            "Epoch 41/50\n",
            "60000/60000 [==============================] - 6s 101us/sample - loss: 0.0174 - acc: 0.9945\n",
            "Epoch 42/50\n",
            "60000/60000 [==============================] - 6s 103us/sample - loss: 0.0101 - acc: 0.9968\n",
            "Epoch 43/50\n",
            "60000/60000 [==============================] - 6s 102us/sample - loss: 0.0174 - acc: 0.9948\n",
            "Epoch 44/50\n",
            "60000/60000 [==============================] - 6s 100us/sample - loss: 0.0175 - acc: 0.9950\n",
            "Epoch 45/50\n",
            "60000/60000 [==============================] - 6s 101us/sample - loss: 0.0144 - acc: 0.9956\n",
            "Epoch 46/50\n",
            "60000/60000 [==============================] - 6s 102us/sample - loss: 0.0140 - acc: 0.9957\n",
            "Epoch 47/50\n",
            "60000/60000 [==============================] - 6s 100us/sample - loss: 0.0142 - acc: 0.9955\n",
            "Epoch 48/50\n",
            "60000/60000 [==============================] - 6s 103us/sample - loss: 0.0156 - acc: 0.9953\n",
            "Epoch 49/50\n",
            "60000/60000 [==============================] - 6s 103us/sample - loss: 0.0110 - acc: 0.9966\n",
            "Epoch 50/50\n",
            "60000/60000 [==============================] - 6s 99us/sample - loss: 0.0141 - acc: 0.9962\n"
          ],
          "name": "stdout"
        },
        {
          "output_type": "execute_result",
          "data": {
            "text/plain": [
              "<tensorflow.python.keras.callbacks.History at 0x7f19fc45c978>"
            ]
          },
          "metadata": {
            "tags": []
          },
          "execution_count": 86
        }
      ]
    },
    {
      "cell_type": "markdown",
      "metadata": {
        "id": "vIp2f4pbEZwo",
        "colab_type": "text"
      },
      "source": [
        "### Eigenschaften des erzeugten Modells"
      ]
    },
    {
      "cell_type": "code",
      "metadata": {
        "id": "T1Y9s7MGeqCa",
        "colab_type": "code",
        "outputId": "d6e54421-d8c7-490f-efb4-3028f1468c99",
        "colab": {
          "base_uri": "https://localhost:8080/",
          "height": 391
        }
      },
      "source": [
        "print(model.summary())"
      ],
      "execution_count": 87,
      "outputs": [
        {
          "output_type": "stream",
          "text": [
            "Model: \"sequential_8\"\n",
            "_________________________________________________________________\n",
            "Layer (type)                 Output Shape              Param #   \n",
            "=================================================================\n",
            "conv2d_16 (Conv2D)           (None, 26, 26, 30)        300       \n",
            "_________________________________________________________________\n",
            "max_pooling2d_16 (MaxPooling (None, 13, 13, 30)        0         \n",
            "_________________________________________________________________\n",
            "conv2d_17 (Conv2D)           (None, 11, 11, 64)        17344     \n",
            "_________________________________________________________________\n",
            "max_pooling2d_17 (MaxPooling (None, 5, 5, 64)          0         \n",
            "_________________________________________________________________\n",
            "flatten_8 (Flatten)          (None, 1600)              0         \n",
            "_________________________________________________________________\n",
            "dense_16 (Dense)             (None, 400)               640400    \n",
            "_________________________________________________________________\n",
            "dense_17 (Dense)             (None, 10)                4010      \n",
            "=================================================================\n",
            "Total params: 662,054\n",
            "Trainable params: 662,054\n",
            "Non-trainable params: 0\n",
            "_________________________________________________________________\n",
            "None\n"
          ],
          "name": "stdout"
        }
      ]
    },
    {
      "cell_type": "markdown",
      "metadata": {
        "id": "7CKyetaBUOmZ",
        "colab_type": "text"
      },
      "source": [
        "## Test des neuronalen Netzes mit den Testbildern aus dem Datensatz"
      ]
    },
    {
      "cell_type": "markdown",
      "metadata": {
        "id": "ktM44CCtWM8-",
        "colab_type": "text"
      },
      "source": [
        "Das Netzwerk liefert für die Werte 0 - 9 Warscheinlichkeiten, wobei 0 - 9 jeweils für ein Kleidungsstück steht. Der Index mit der höchsten Wahrscheinlichkeit verweist auf das Produkt, um das es sich am Wahrscheinlichsten handelt.\n",
        "Die Zuteilung ist hierbei wie folgt:"
      ]
    },
    {
      "cell_type": "code",
      "metadata": {
        "id": "KLqkeVrXWLlk",
        "colab_type": "code",
        "colab": {
          "base_uri": "https://localhost:8080/",
          "height": 180
        },
        "outputId": "47bd8b2d-323a-4682-f23b-084d0286fa88"
      },
      "source": [
        "for i in range(0,10):\n",
        "  print(\"Index \",i,\"bedeutet:\", labels[i])"
      ],
      "execution_count": 88,
      "outputs": [
        {
          "output_type": "stream",
          "text": [
            "Index  0 bedeutet: T-Shirt oder Top\n",
            "Index  1 bedeutet: Hose\n",
            "Index  2 bedeutet: Pullover\n",
            "Index  3 bedeutet: Kleid\n",
            "Index  4 bedeutet: Mantel\n",
            "Index  5 bedeutet: Sandale\n",
            "Index  6 bedeutet: Shirt oder Oberhemd\n",
            "Index  7 bedeutet: Sneaker\n",
            "Index  8 bedeutet: Tasche\n",
            "Index  9 bedeutet: Stiefel\n"
          ],
          "name": "stdout"
        }
      ]
    },
    {
      "cell_type": "markdown",
      "metadata": {
        "id": "JVvnSwFLXQVs",
        "colab_type": "text"
      },
      "source": [
        "## Erstes Beispiel Kontrolle Lernerfolg"
      ]
    },
    {
      "cell_type": "markdown",
      "metadata": {
        "id": "u1nF3IxGUrhC",
        "colab_type": "text"
      },
      "source": [
        "### Ausgabe Wahrscheinlichkeiten und Prognose"
      ]
    },
    {
      "cell_type": "code",
      "metadata": {
        "id": "6rXX2eQGTdJe",
        "colab_type": "code",
        "outputId": "84fb563a-1bbf-4ce6-8c3e-3979eb74a394",
        "colab": {
          "base_uri": "https://localhost:8080/",
          "height": 131
        }
      },
      "source": [
        "Auswahl = 5125 # Index des ausgewählten Bildes\n",
        "classes = model.predict(test_images)\n",
        "print(\"Wahrscheinlichkeiten:\")\n",
        "print(classes[Auswahl])\n",
        "print(\"\\n\")\n",
        "w = np.argmax(classes[Auswahl])\n",
        "print(\"Wahrscheinlichstes Label:\",w)\n",
        "print(\"Es ist wahrscheinlich ein(e) \",labels[w])"
      ],
      "execution_count": 89,
      "outputs": [
        {
          "output_type": "stream",
          "text": [
            "Wahrscheinlichkeiten:\n",
            "[1.4396068e-19 2.1461184e-29 9.9999988e-01 3.4025160e-20 1.5645152e-12\n",
            " 6.1566906e-22 9.6973629e-08 7.0184236e-32 9.9263218e-20 5.3845723e-27]\n",
            "\n",
            "\n",
            "Wahrscheinlichstes Label: 2\n",
            "Es ist wahrscheinlich ein(e)  Pullover\n"
          ],
          "name": "stdout"
        }
      ]
    },
    {
      "cell_type": "markdown",
      "metadata": {
        "id": "clKW2PHqUiYl",
        "colab_type": "text"
      },
      "source": [
        "### Grafische Ausgabe"
      ]
    },
    {
      "cell_type": "code",
      "metadata": {
        "id": "TIuZKJD6Up05",
        "colab_type": "code",
        "outputId": "237410c5-d0bc-4a7a-f1a7-2c2baf9e11ea",
        "colab": {
          "base_uri": "https://localhost:8080/",
          "height": 498
        }
      },
      "source": [
        "(training_images, training_labels), (test_images, test_labels) = mnist.load_data()\n",
        "plt.figure(0, figsize=(12,8))\n",
        "plt.subplot(1,2,1)\n",
        "plt.title(\"Wahrscheinlichkeiten\")\n",
        "plt.bar(range(10), classes[Auswahl])\n",
        "plt.subplot(1,2,2)\n",
        "plt.title(\"Foto des Gegenstandes\")\n",
        "plt.imshow(test_images[Auswahl], cmap='Greys_r')\n",
        "plt.show()"
      ],
      "execution_count": 90,
      "outputs": [
        {
          "output_type": "display_data",
          "data": {
            "image/png": "[encoded data removed]",
            "text/plain": [
              "<Figure size 864x576 with 2 Axes>"
            ]
          },
          "metadata": {
            "tags": []
          }
        }
      ]
    },
    {
      "cell_type": "markdown",
      "metadata": {
        "id": "bUa_xXVqXap7",
        "colab_type": "text"
      },
      "source": [
        "## Zweites Beispiel Kontrolle Lernerfolg"
      ]
    },
    {
      "cell_type": "markdown",
      "metadata": {
        "id": "CJq72IirUWsq",
        "colab_type": "text"
      },
      "source": [
        "### Ausgabe Wahrscheinlichkeiten und Prognose"
      ]
    },
    {
      "cell_type": "code",
      "metadata": {
        "id": "J-v0TFY6eEKx",
        "colab_type": "code",
        "outputId": "54082f5d-d88d-456e-c6e0-27cc4193dc8a",
        "colab": {
          "base_uri": "https://localhost:8080/",
          "height": 131
        }
      },
      "source": [
        "Auswahl2 = 2501 # Index des ausgewählten Bildes\n",
        "print(\"Wahrscheinlichkeiten:\")\n",
        "print(classes[Auswahl2])\n",
        "print(\"\\n\")\n",
        "w = np.argmax(classes[Auswahl2])\n",
        "print(\"Wahrscheinlichstes Label:\",w)\n",
        "print(\"Es ist wahrscheinlich ein(e) \",labels[w])"
      ],
      "execution_count": 91,
      "outputs": [
        {
          "output_type": "stream",
          "text": [
            "Wahrscheinlichkeiten:\n",
            "[2.3276549e-20 2.1505517e-37 1.0000000e+00 1.2340293e-31 0.0000000e+00\n",
            " 1.1814091e-34 9.0810514e-19 2.2686200e-38 2.8030662e-34 2.9810163e-26]\n",
            "\n",
            "\n",
            "Wahrscheinlichstes Label: 2\n",
            "Es ist wahrscheinlich ein(e)  Pullover\n"
          ],
          "name": "stdout"
        }
      ]
    },
    {
      "cell_type": "markdown",
      "metadata": {
        "id": "cNMKXyU7UcGV",
        "colab_type": "text"
      },
      "source": [
        "### Grafische Ausgabe"
      ]
    },
    {
      "cell_type": "code",
      "metadata": {
        "id": "UI7iAOnFfb6R",
        "colab_type": "code",
        "outputId": "dd24dcfc-908e-4ffc-fea5-ff008cffec40",
        "colab": {
          "base_uri": "https://localhost:8080/",
          "height": 281
        }
      },
      "source": [
        "plt.figure(1, figsize=(8,4))\n",
        "plt.subplot(1,2,1)\n",
        "plt.title(\"Wahrscheinlichkeiten\")\n",
        "plt.bar(range(10), classes[Auswahl2])\n",
        "plt.subplot(1,2,2)\n",
        "plt.title(\"Foto des Gegenstandes\")\n",
        "plt.imshow(test_images[Auswahl2], cmap='Greys_r')\n",
        "plt.show()"
      ],
      "execution_count": 92,
      "outputs": [
        {
          "output_type": "display_data",
          "data": {
            "image/png": "[encoded data removed]",
            "text/plain": [
              "<Figure size 576x288 with 2 Axes>"
            ]
          },
          "metadata": {
            "tags": []
          }
        }
      ]
    },
    {
      "cell_type": "markdown",
      "metadata": {
        "id": "dIIFSRP6_K0Q",
        "colab_type": "text"
      },
      "source": [
        "## Hochladen eigenes Bild"
      ]
    },
    {
      "cell_type": "code",
      "metadata": {
        "id": "r9PqZK6u_IpJ",
        "colab_type": "code",
        "outputId": "e806c9c9-d1b3-4089-d585-6bf1c0de1b00",
        "colab": {
          "resources": {
            "http://localhost:8080/nbextensions/google.colab/files.js": {
              "data": "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",
              "ok": true,
              "headers": [
                [
                  "content-type",
                  "application/javascript"
                ]
              ],
              "status": 200,
              "status_text": ""
            }
          },
          "base_uri": "https://localhost:8080/",
          "height": 121
        }
      },
      "source": [
        "uploaded = files.upload()\n",
        "#plt.figure(2, figsize = (8,8))\n",
        "for fn in uploaded.keys():\n",
        "  print(\"fn = \",fn)\n",
        "  path = '/content/' + fn\n",
        "  img_original = cv2.imread(path) \n",
        "  img_RGB = cv2.cvtColor(img_original, cv2.COLOR_BGR2RGB)\n",
        "\n",
        "  #in diesem Abschnitt formartieren wir unser Bild, damit es zu unserem neuronalen Netz passt\n",
        "  img = cv2.resize(img_original,(28,28))\n",
        "  img = cv2.cvtColor(img, cv2.COLOR_BGR2GRAY)\n",
        "  img_array = image.img_to_array(img, dtype=np.float32)\n",
        "  print(\"Der Grauwert des oberen linken Pixels ist:\", img_array[0,0])\n",
        "  if img_array[0,0] > 245:\n",
        "    # Das Bild hat einen weißen Hintergrund und muss invertiert werden\n",
        "    print(\"Das Bild muss invertiert werden!\")\n",
        "    img_array -= 255\n",
        "    img_array *= -1\n",
        "  img_array = img_array / 255.0\n",
        "  img_array = img_array.reshape(1, 28, 28, 1)\n",
        "  img_neu = img_array[0,:,:,0]\n",
        "\n",
        "  #in diesem Abschnitt lassen wir unser neuronales Netz einschätzen, um welches Kleidungsstück es sich handelt.\n",
        "  classes = model.predict(img_array)\n",
        "  prognose = classes[0]\n",
        "  bester = np.argmax(prognose)\n",
        "\n"
      ],
      "execution_count": 95,
      "outputs": [
        {
          "output_type": "display_data",
          "data": {
            "text/html": [
              "\n",
              "     <input type=\"file\" id=\"files-98c292b3-b014-4052-9361-f579e44ae98a\" name=\"files[]\" multiple disabled />\n",
              "     <output id=\"result-98c292b3-b014-4052-9361-f579e44ae98a\">\n",
              "      Upload widget is only available when the cell has been executed in the\n",
              "      current browser session. Please rerun this cell to enable.\n",
              "      </output>\n",
              "      <script src=\"/nbextensions/google.colab/files.js\"></script> "
            ],
            "text/plain": [
              "<IPython.core.display.HTML object>"
            ]
          },
          "metadata": {
            "tags": []
          }
        },
        {
          "output_type": "stream",
          "text": [
            "Saving 2020_01_07_Turnschuh.jpg to 2020_01_07_Turnschuh (2).jpg\n",
            "fn =  2020_01_07_Turnschuh.jpg\n",
            "Der Grauwert des oberen linken Pixels ist: [255.]\n",
            "Das Bild muss invertiert werden!\n"
          ],
          "name": "stdout"
        }
      ]
    },
    {
      "cell_type": "markdown",
      "metadata": {
        "id": "WVi2XN-neFK5",
        "colab_type": "text"
      },
      "source": [
        "### Anzeigen der Ergebnisse"
      ]
    },
    {
      "cell_type": "markdown",
      "metadata": {
        "id": "NJLNaNmDT25B",
        "colab_type": "text"
      },
      "source": [
        "### Ausgabe Wahrscheinlichkeiten und Prognose"
      ]
    },
    {
      "cell_type": "code",
      "metadata": {
        "id": "bA-oR6x_fvX6",
        "colab_type": "code",
        "outputId": "2f4ddbbd-f71c-4f8c-9f03-cfe26e94436a",
        "colab": {
          "base_uri": "https://localhost:8080/",
          "height": 82
        }
      },
      "source": [
        "print(\"Die Prognosenverteilung lautet:\\n\",prognose)\n",
        "print(\"Beste Wahrscheinlichkeit für:\", labels[bester])"
      ],
      "execution_count": 96,
      "outputs": [
        {
          "output_type": "stream",
          "text": [
            "Die Prognosenverteilung lautet:\n",
            " [1.7011471e-16 2.7748787e-22 8.4429663e-25 0.0000000e+00 5.5733300e-26\n",
            " 1.6405812e-07 1.9257172e-18 9.9999988e-01 1.8415541e-32 4.0951612e-28]\n",
            "Beste Wahrscheinlichkeit für: Sneaker\n"
          ],
          "name": "stdout"
        }
      ]
    },
    {
      "cell_type": "markdown",
      "metadata": {
        "id": "FWvw2pxLT_A9",
        "colab_type": "text"
      },
      "source": [
        "### Grafische Ausgabe"
      ]
    },
    {
      "cell_type": "code",
      "metadata": {
        "id": "SXtWbIu1eD-P",
        "colab_type": "code",
        "outputId": "b0aed448-3c0e-403c-9bd2-02dc4f9684ff",
        "colab": {
          "base_uri": "https://localhost:8080/",
          "height": 297
        }
      },
      "source": [
        "\n",
        "plt.figure(2, figsize=(12,4))\n",
        "plt.subplot(1,4,1)\n",
        "plt.title(\"Wahrscheinlichkeiten\")\n",
        "plt.bar(range(10), prognose)\n",
        "plt.subplot(1,4,2)\n",
        "plt.title(\"Originalfoto Gegenstand\")\n",
        "plt.imshow(img_RGB)\n",
        "plt.subplot(1,4,3)\n",
        "plt.title(\"Foto (28x28 Pixel)\")\n",
        "plt.imshow(img, cmap='Greys_r')\n",
        "plt.subplot(1,4,4)\n",
        "plt.title(\"Foto nach Bearbeitung\")\n",
        "plt.imshow(img_neu, cmap='Greys_r')\n",
        "plt.tight_layout()\n",
        "plt.show()\n"
      ],
      "execution_count": 97,
      "outputs": [
        {
          "output_type": "display_data",
          "data": {
            "image/png": "[encoded data removed]",
            "text/plain": [
              "<Figure size 864x288 with 4 Axes>"
            ]
          },
          "metadata": {
            "tags": []
          }
        }
      ]
    },
    {
      "cell_type": "markdown",
      "metadata": {
        "id": "cC5rnWOhTr7J",
        "colab_type": "text"
      },
      "source": [
        "## Die Vorgänge in den Layern"
      ]
    },
    {
      "cell_type": "markdown",
      "metadata": {
        "id": "VRfbgLP6Tw50",
        "colab_type": "text"
      },
      "source": [
        "Hier werden drei Bilder aus dem Testdatensatz ausgewählt und es wird dargestellt, wie sich die Ausgangsmatrix durch die entsprechenden Operationen in den Layern verändern."
      ]
    },
    {
      "cell_type": "markdown",
      "metadata": {
        "id": "nTnpZZ90tRnk",
        "colab_type": "text"
      },
      "source": [
        "### Betrachten des Inputs in das neurologische Netz"
      ]
    },
    {
      "cell_type": "markdown",
      "metadata": {
        "id": "oRfrXQdbtkoQ",
        "colab_type": "text"
      },
      "source": [
        "Das Input in das neurologische Netz hat folgendes Fornat"
      ]
    },
    {
      "cell_type": "code",
      "metadata": {
        "id": "U-lSulGmtQlz",
        "colab_type": "code",
        "colab": {
          "base_uri": "https://localhost:8080/",
          "height": 33
        },
        "outputId": "bbd8eda9-5813-40fa-b445-80bc8b978948"
      },
      "source": [
        "print(model.input)"
      ],
      "execution_count": 98,
      "outputs": [
        {
          "output_type": "stream",
          "text": [
            "Tensor(\"conv2d_16_input:0\", shape=(?, 28, 28, 1), dtype=float32)\n"
          ],
          "name": "stdout"
        }
      ]
    },
    {
      "cell_type": "markdown",
      "metadata": {
        "id": "L1pDt3twFKnO",
        "colab_type": "text"
      },
      "source": [
        "### Betrachten der einzelnen Outputs"
      ]
    },
    {
      "cell_type": "code",
      "metadata": {
        "id": "S-XDGjTxAW9F",
        "colab_type": "code",
        "outputId": "6cc101ed-181a-4a6c-c2ab-7218c3e295f7",
        "colab": {
          "base_uri": "https://localhost:8080/",
          "height": 163
        }
      },
      "source": [
        "layer_outputs = [layer.output for layer in model.layers]\n",
        "print(\"Es gibt im Modell insgesamt\",len(layer_outputs), \"Layer (Schichten), die ein Output haben.\")\n",
        "print(\"Diese einzelnen Outputs haben folgende Eigenschaften:\")\n",
        "for i in range(0, len(layer_outputs)):\n",
        "  print(\"Layer mit Index \",i,\": Eigenschaften: \", layer_outputs[i])\n"
      ],
      "execution_count": 99,
      "outputs": [
        {
          "output_type": "stream",
          "text": [
            "Es gibt im Modell insgesamt 7 Layer (Schichten), die ein Output haben.\n",
            "Diese einzelnen Outputs haben folgende Eigenschaften:\n",
            "Layer mit Index  0 : Eigenschaften:  Tensor(\"conv2d_16/Relu:0\", shape=(?, 26, 26, 30), dtype=float32)\n",
            "Layer mit Index  1 : Eigenschaften:  Tensor(\"max_pooling2d_16/MaxPool:0\", shape=(?, 13, 13, 30), dtype=float32)\n",
            "Layer mit Index  2 : Eigenschaften:  Tensor(\"conv2d_17/Relu:0\", shape=(?, 11, 11, 64), dtype=float32)\n",
            "Layer mit Index  3 : Eigenschaften:  Tensor(\"max_pooling2d_17/MaxPool:0\", shape=(?, 5, 5, 64), dtype=float32)\n",
            "Layer mit Index  4 : Eigenschaften:  Tensor(\"flatten_8/Reshape:0\", shape=(?, 1600), dtype=float32)\n",
            "Layer mit Index  5 : Eigenschaften:  Tensor(\"dense_16/Relu:0\", shape=(?, 400), dtype=float32)\n",
            "Layer mit Index  6 : Eigenschaften:  Tensor(\"dense_17/Softmax:0\", shape=(?, 10), dtype=float32)\n"
          ],
          "name": "stdout"
        }
      ]
    },
    {
      "cell_type": "markdown",
      "metadata": {
        "id": "zfVvA_xTFOH4",
        "colab_type": "text"
      },
      "source": [
        "### Definition eines Modells"
      ]
    },
    {
      "cell_type": "code",
      "metadata": {
        "id": "8dxGnLNeFV7N",
        "colab_type": "code",
        "colab": {}
      },
      "source": [
        "activation_model = tf.keras.models.Model(inputs = model.input, outputs = layer_outputs)"
      ],
      "execution_count": 0,
      "outputs": []
    },
    {
      "cell_type": "markdown",
      "metadata": {
        "id": "iH5ZFuKHFaIr",
        "colab_type": "text"
      },
      "source": [
        "### Eigenschaften des Modells"
      ]
    },
    {
      "cell_type": "code",
      "metadata": {
        "id": "Sv0JE-pnDpwK",
        "colab_type": "code",
        "outputId": "335676d3-ba39-4e2f-a783-0293342a7cb2",
        "colab": {
          "base_uri": "https://localhost:8080/",
          "height": 423
        }
      },
      "source": [
        "print(activation_model.summary())"
      ],
      "execution_count": 101,
      "outputs": [
        {
          "output_type": "stream",
          "text": [
            "Model: \"model_3\"\n",
            "_________________________________________________________________\n",
            "Layer (type)                 Output Shape              Param #   \n",
            "=================================================================\n",
            "conv2d_16_input (InputLayer) [(None, 28, 28, 1)]       0         \n",
            "_________________________________________________________________\n",
            "conv2d_16 (Conv2D)           (None, 26, 26, 30)        300       \n",
            "_________________________________________________________________\n",
            "max_pooling2d_16 (MaxPooling (None, 13, 13, 30)        0         \n",
            "_________________________________________________________________\n",
            "conv2d_17 (Conv2D)           (None, 11, 11, 64)        17344     \n",
            "_________________________________________________________________\n",
            "max_pooling2d_17 (MaxPooling (None, 5, 5, 64)          0         \n",
            "_________________________________________________________________\n",
            "flatten_8 (Flatten)          (None, 1600)              0         \n",
            "_________________________________________________________________\n",
            "dense_16 (Dense)             (None, 400)               640400    \n",
            "_________________________________________________________________\n",
            "dense_17 (Dense)             (None, 10)                4010      \n",
            "=================================================================\n",
            "Total params: 662,054\n",
            "Trainable params: 662,054\n",
            "Non-trainable params: 0\n",
            "_________________________________________________________________\n",
            "None\n"
          ],
          "name": "stdout"
        }
      ]
    },
    {
      "cell_type": "markdown",
      "metadata": {
        "id": "X2cdOU5zFunC",
        "colab_type": "text"
      },
      "source": [
        "### Auswahl von Bildern aus dem Test-Datensatz"
      ]
    },
    {
      "cell_type": "markdown",
      "metadata": {
        "id": "poSBt_jdGF4X",
        "colab_type": "text"
      },
      "source": [
        "Es werden drei Bilder aus dem Test-Datensatz anhand ihres Index festgelegt und es festgelegt, bei welcher Convolution die Matrizen betrachtet werden sollen."
      ]
    },
    {
      "cell_type": "code",
      "metadata": {
        "id": "rMb4877EFtsw",
        "colab_type": "code",
        "colab": {}
      },
      "source": [
        "Bild_Auswahl = np.array([1, 251, 4444])\n",
        "Bild_Auswahl_1 = 0\n",
        "Bild_Auswahl_2 = 23\n",
        "Bild_Auswahl_3 = 288\n",
        "Convolution_Nummer = 20"
      ],
      "execution_count": 0,
      "outputs": []
    },
    {
      "cell_type": "code",
      "metadata": {
        "colab_type": "code",
        "id": "FrzFHTIWSw5T",
        "colab": {}
      },
      "source": [
        "beschriftung = (\"26x26-Matrix\", \"13x13-Matrix\", \"11x11-Matrix\", \"5x5-Matrix\")"
      ],
      "execution_count": 0,
      "outputs": []
    },
    {
      "cell_type": "markdown",
      "metadata": {
        "id": "FlES24r0QOEg",
        "colab_type": "text"
      },
      "source": [
        "### Grafische Ausgabe"
      ]
    },
    {
      "cell_type": "markdown",
      "metadata": {
        "id": "PW-7ciapPi1O",
        "colab_type": "text"
      },
      "source": [
        "Grafische Ausgabe, wie sich die Ursprungsmatrix verändert. Convolutional Neural Networks erzeugen Matrizen mit mehreren Layern, da mehrere Filter angewendet werden und je Filter ein Layer entsteht. Über \"Convolutional_Nummer\" kann man anschauen, welcher Layer angeschaut wird."
      ]
    },
    {
      "cell_type": "code",
      "metadata": {
        "id": "NFA5wNMArXYO",
        "colab_type": "code",
        "colab": {
          "base_uri": "https://localhost:8080/",
          "height": 1068
        },
        "outputId": "e5530a0d-79e4-4690-e5a9-5c30a8a94b76"
      },
      "source": [
        "plt.figure(3, figsize = (16,20))\n",
        "for x in range(0,3):\n",
        "  plt.subplot(4,5,1+5*x)\n",
        "  plt.title(\"Ausgangsbild\")\n",
        "  plt.imshow(test_images[Bild_Auswahl[x]], cmap='Greys_r')\n",
        "\n",
        "plt.subplot(4,5,16)  \n",
        "plt.imshow(img_neu, cmap='Greys_r')\n",
        "plt.title(\"Ausgangsbild\")\n",
        "\n",
        "for x in range(0,4):\n",
        "  f1 = activation_model.predict(test_images[Bild_Auswahl[0]].reshape(1, 28, 28, 1))[x]\n",
        "  plt.subplot(4,5,(x+2))\n",
        "  plt.imshow(f1[0, : , :, Convolution_Nummer], cmap='Greys_r')\n",
        "  plt.title(beschriftung[x])\n",
        "  f2 = activation_model.predict(test_images[Bild_Auswahl[1]].reshape(1, 28, 28, 1))[x]\n",
        "  plt.subplot(4,5,5+(x+2))\n",
        "  plt.imshow(f2[0, : , :, Convolution_Nummer], cmap='Greys_r')\n",
        "  plt.title(beschriftung[x])\n",
        "  f3 = activation_model.predict(test_images[Bild_Auswahl[2]].reshape(1, 28, 28, 1))[x]\n",
        "  plt.subplot(4,5,10+(x+2))\n",
        "  plt.imshow(f3[0, : , :, Convolution_Nummer], cmap='Greys_r')\n",
        "  plt.title(beschriftung[x])\n",
        "  f4 = activation_model.predict(img_array)[x]\n",
        "  plt.subplot(4,5,15+(x+2))\n",
        "  plt.imshow(f4[0, : , :, Convolution_Nummer], cmap='Greys_r')\n",
        "  plt.title(beschriftung[x])\n",
        "plt.show()\n"
      ],
      "execution_count": 104,
      "outputs": [
        {
          "output_type": "display_data",
          "data": {
            "image/png": "[encoded data removed]",
            "text/plain": [
              "<Figure size 1152x1440 with 20 Axes>"
            ]
          },
          "metadata": {
            "tags": []
          }
        }
      ]
    }
  ]
}