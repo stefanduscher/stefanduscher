{
  "nbformat": 4,
  "nbformat_minor": 0,
  "metadata": {
    "colab": {
      "name": "Zweites Netzwerk - mit CNNs.ipynb",
      "provenance": [],
      "collapsed_sections": []
    },
    "kernelspec": {
      "name": "python3",
      "display_name": "Python 3"
    },
    "accelerator": "GPU"
  },
  "cells": [
    {
      "cell_type": "markdown",
      "metadata": {
        "id": "iQjHqsmTAVLU",
        "colab_type": "text"
      },
      "source": [
        "# Neuronale Netze programmieren \n",
        "## Version mit CNN und Pooling\n",
        "### Datum: 10.12.2019\n",
        "### Kurs: VHS Ludwigsburg - Maschinelles Lernen\n",
        "In diesem Projekt geht es darum Kleidung zu kategorisieren. Einfach gesagt, wir trainieren unser neuronales Netz mit 70.000 Bildern von Kleidung und am Ende wollen wir ihm ein Bild der Kleidung zeigen und es soll vorhersagen, was es ist.\n",
        "\n",
        "Die verwendete Datensammlung heiß MNIST Fashion.\n"
      ]
    },
    {
      "cell_type": "markdown",
      "metadata": {
        "id": "tbx5K6x-2pO0",
        "colab_type": "text"
      },
      "source": [
        "## So sehen die BIlder in unserem Datenset aus\n",
        "![Bilder der Kleidung](https://tensorflow.org/images/fashion-mnist-sprite.png)\n"
      ]
    },
    {
      "cell_type": "markdown",
      "metadata": {
        "id": "zSp3s-DWzJ8O",
        "colab_type": "text"
      },
      "source": [
        "# So sind die Labels des Datensets definiert\n",
        "0\tT-shirt/top\n",
        "\n",
        "1\tTrouser\n",
        "\n",
        "2\tPullover\n",
        "\n",
        "3\tDress\n",
        "\n",
        "4\tCoat\n",
        "\n",
        "5\tSandal\n",
        "\n",
        "6\tShirt\n",
        "\n",
        "7\tSneaker\n",
        "\n",
        "8\tBag\n",
        "\n",
        "9\tAnkle boot"
      ]
    },
    {
      "cell_type": "code",
      "metadata": {
        "colab_type": "code",
        "outputId": "08ea7a20-3a8b-431d-9a8e-4d8912c64739",
        "id": "tAVsDH9ZJPkK",
        "colab": {
          "base_uri": "https://localhost:8080/",
          "height": 68
        }
      },
      "source": [
        "%tensorflow_version 1.x\n",
        "import tensorflow as tf \n",
        "import numpy as np\n",
        "#from keras.preprocessing import image\n",
        "import cv2\n",
        "import matplotlib.pyplot as plt\n",
        "from tensorflow.keras import models\n",
        "\n",
        "class myCallback(tf.keras.callbacks.Callback):\n",
        "  def on_epoch_end(self, epoch, logs={}):\n",
        "    if(logs.get('acc')>0.975):\n",
        "      print(\"Das neuronale Netz ist akkurat genug.\")\n",
        "      self.model.stop_training = True\n",
        "\n",
        "callbacks = myCallback()\n",
        "\n",
        "labels = [\"Shirt\", \"Hose\", \"Pullover\", \"Kleid\", \"Mantel\", \"Sandale\", \"Shirt\", \"Sneaker\", \"Tasche\", \"Stiefel\"]\n",
        "\n",
        "\n",
        "mnist = tf.keras.datasets.fashion_mnist\n",
        "(training_images, training_labels), (test_images, test_labels) = mnist.load_data()\n",
        "\n",
        "training_images = training_images.reshape(60000, 28, 28, 1)\n",
        "training_images = training_images / 255.0\n",
        "test_images = test_images.reshape(10000, 28, 28, 1)\n",
        "test_images = test_images / 255.0\n",
        "\n",
        "model = tf.keras.models.Sequential([\n",
        "    tf.keras.layers.Conv2D(32,(3,3), activation='relu', input_shape=(28,28,1)),\n",
        "    tf.keras.layers.MaxPooling2D(2,2),\n",
        "    tf.keras.layers.Conv2D(64,(3,3), activation='relu'),\n",
        "    tf.keras.layers.MaxPooling2D(2,2),\n",
        "    tf.keras.layers.Flatten(),\n",
        "    tf.keras.layers.Dense(400, activation='relu'),\n",
        "    tf.keras.layers.Dense(10, activation='softmax')\n",
        "])\n",
        "\n",
        "model.compile(optimizer='adam', loss='sparse_categorical_crossentropy', metrics=['accuracy'])\n",
        "model.fit(training_images,training_labels, epochs=1, callbacks=[callbacks])"
      ],
      "execution_count": 174,
      "outputs": [
        {
          "output_type": "stream",
          "text": [
            "Train on 60000 samples\n",
            "60000/60000 [==============================] - 19s 324us/sample - loss: 0.4258 - acc: 0.8449\n"
          ],
          "name": "stdout"
        },
        {
          "output_type": "execute_result",
          "data": {
            "text/plain": [
              "<tensorflow.python.keras.callbacks.History at 0x7f7fcc18f240>"
            ]
          },
          "metadata": {
            "tags": []
          },
          "execution_count": 174
        }
      ]
    },
    {
      "cell_type": "code",
      "metadata": {
        "id": "T1Y9s7MGeqCa",
        "colab_type": "code",
        "colab": {}
      },
      "source": [
        ""
      ],
      "execution_count": 0,
      "outputs": []
    },
    {
      "cell_type": "markdown",
      "metadata": {
        "id": "7CKyetaBUOmZ",
        "colab_type": "text"
      },
      "source": [
        "### Test des neuronalen Netzes mit den Testbildern aus dem Datensatz"
      ]
    },
    {
      "cell_type": "markdown",
      "metadata": {
        "id": "JVvnSwFLXQVs",
        "colab_type": "text"
      },
      "source": [
        "### Erstes Beispiel Kontrolle Lernerfolg"
      ]
    },
    {
      "cell_type": "code",
      "metadata": {
        "id": "6rXX2eQGTdJe",
        "colab_type": "code",
        "outputId": "505d1a29-a60e-42a5-c88d-2513cfd27146",
        "colab": {
          "base_uri": "https://localhost:8080/",
          "height": 136
        }
      },
      "source": [
        "Auswahl = 125\n",
        "classes = model.predict(test_images)\n",
        "print(\"Wahrscheinlichkeiten:\")\n",
        "print(classes[Auswahl])\n",
        "print(\"\\n\")\n",
        "w = np.argmax(classes[Auswahl])\n",
        "print(\"Wahrscheinlichstes Label:\",w)\n",
        "print(\"Es ist wahrscheinlich ein(e) \",labels[w])"
      ],
      "execution_count": 175,
      "outputs": [
        {
          "output_type": "stream",
          "text": [
            "Wahrscheinlichkeiten:\n",
            "[8.6131150e-01 2.1720758e-05 5.4721971e-04 1.7120615e-04 1.7466340e-05\n",
            " 1.1982547e-05 1.3775162e-01 1.1708510e-07 1.6655623e-04 5.7016291e-07]\n",
            "\n",
            "\n",
            "Wahrscheinlichstes Label: 0\n",
            "Es ist wahrscheinlich ein(e)  Shirt\n"
          ],
          "name": "stdout"
        }
      ]
    },
    {
      "cell_type": "markdown",
      "metadata": {
        "id": "clKW2PHqUiYl",
        "colab_type": "text"
      },
      "source": [
        "### Das geteste Bild anzeigen"
      ]
    },
    {
      "cell_type": "code",
      "metadata": {
        "id": "TIuZKJD6Up05",
        "colab_type": "code",
        "outputId": "6534cbce-58f9-4543-f9fe-256dc5fb386c",
        "colab": {
          "base_uri": "https://localhost:8080/",
          "height": 499
        }
      },
      "source": [
        "(training_images, training_labels), (test_images, test_labels) = mnist.load_data()\n",
        "plt.figure(0, figsize=(12,8))\n",
        "plt.subplot(1,2,1)\n",
        "plt.title(\"Wahrscheinlichkeiten\")\n",
        "plt.bar(range(10), classes[Auswahl])\n",
        "plt.subplot(1,2,2)\n",
        "plt.title(\"Foto des Gegenstandes\")\n",
        "plt.imshow(test_images[Auswahl], cmap='Greys_r')\n",
        "plt.show()"
      ],
      "execution_count": 176,
      "outputs": [
        {
          "output_type": "display_data",
          "data": {
            "image/png": "[encoded data removed]",
            "text/plain": [
              "<Figure size 864x576 with 2 Axes>"
            ]
          },
          "metadata": {
            "tags": []
          }
        }
      ]
    },
    {
      "cell_type": "markdown",
      "metadata": {
        "id": "bUa_xXVqXap7",
        "colab_type": "text"
      },
      "source": [
        "### Zweites Beispiel Kontrolle Lernerfolg"
      ]
    },
    {
      "cell_type": "code",
      "metadata": {
        "id": "J-v0TFY6eEKx",
        "colab_type": "code",
        "colab": {
          "base_uri": "https://localhost:8080/",
          "height": 136
        },
        "outputId": "37b86636-7022-4965-ddb1-706fbb151d7c"
      },
      "source": [
        "Auswahl2 = 820\n",
        "print(\"Wahrscheinlichkeiten:\")\n",
        "print(classes[Auswahl2])\n",
        "print(\"\\n\")\n",
        "w = np.argmax(classes[Auswahl2])\n",
        "print(\"Wahrscheinlichstes Label:\",w)\n",
        "print(\"Es ist wahrscheinlich ein(e) \",labels[w])"
      ],
      "execution_count": 177,
      "outputs": [
        {
          "output_type": "stream",
          "text": [
            "Wahrscheinlichkeiten:\n",
            "[1.5363136e-07 2.0808383e-08 4.2991605e-08 8.9074653e-08 7.9264389e-08\n",
            " 1.5372304e-04 1.2854596e-07 2.4165722e-04 5.2829648e-07 9.9960369e-01]\n",
            "\n",
            "\n",
            "Wahrscheinlichstes Label: 9\n",
            "Es ist wahrscheinlich ein(e)  Stiefel\n"
          ],
          "name": "stdout"
        }
      ]
    },
    {
      "cell_type": "code",
      "metadata": {
        "id": "UI7iAOnFfb6R",
        "colab_type": "code",
        "colab": {
          "base_uri": "https://localhost:8080/",
          "height": 499
        },
        "outputId": "0cfdcc06-a7fe-484c-e627-326061ab696b"
      },
      "source": [
        "#(training_images, training_labels), (test_images, test_labels) = mnist.load_data()\n",
        "plt.figure(1, figsize=(12,8))\n",
        "plt.subplot(1,2,1)\n",
        "plt.title(\"Wahrscheinlichkeiten\")\n",
        "plt.bar(range(10), classes[Auswahl2])\n",
        "plt.subplot(1,2,2)\n",
        "plt.title(\"Foto des Gegenstandes\")\n",
        "plt.imshow(test_images[Auswahl2], cmap='Greys_r')\n",
        "plt.show()"
      ],
      "execution_count": 178,
      "outputs": [
        {
          "output_type": "display_data",
          "data": {
            "image/png": "[encoded data removed]",
            "text/plain": [
              "<Figure size 864x576 with 2 Axes>"
            ]
          },
          "metadata": {
            "tags": []
          }
        }
      ]
    }
  ]
}